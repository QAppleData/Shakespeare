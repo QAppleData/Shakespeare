{
 "cells": [
  {
   "cell_type": "code",
   "execution_count": 4,
   "metadata": {},
   "outputs": [
    {
     "name": "stdout",
     "output_type": "stream",
     "text": [
      "Collecting unidecode\n",
      "  Downloading Unidecode-1.1.1-py2.py3-none-any.whl (238 kB)\n",
      "Installing collected packages: unidecode\n",
      "Successfully installed unidecode-1.1.1\n",
      "Note: you may need to restart the kernel to use updated packages.\n"
     ]
    }
   ],
   "source": [
    "pip install unidecode"
   ]
  },
  {
   "cell_type": "code",
   "execution_count": 1,
   "metadata": {},
   "outputs": [],
   "source": [
    "import unidecode\n",
    "import string\n",
    "import random\n",
    "import re"
   ]
  },
  {
   "cell_type": "markdown",
   "metadata": {},
   "source": [
    "# Data"
   ]
  },
  {
   "cell_type": "code",
   "execution_count": 2,
   "metadata": {},
   "outputs": [
    {
     "name": "stdout",
     "output_type": "stream",
     "text": [
      "file_len = 99993\n"
     ]
    }
   ],
   "source": [
    "all_characters = string.printable\n",
    "n_characters = len(all_characters)\n",
    "\n",
    "file = unidecode.unidecode(open('C:/Users/bluev/Desktop/MachineLearning/Shakespeare.txt').read())\n",
    "file_len = len(file)\n",
    "print('file_len =', file_len)"
   ]
  },
  {
   "cell_type": "code",
   "execution_count": 22,
   "metadata": {},
   "outputs": [
    {
     "name": "stdout",
     "output_type": "stream",
     "text": [
      "et them ask from the guilty place: Master Ford.\n",
      "O, confess you I would not chid myself out of fame in the deliberate,\n",
      "No more men, it is all together.\n",
      "\n",
      "AJAX:\n",
      "I know not what.\n",
      "\n",
      "Host:\n",
      "Per me, 'tis babble\n"
     ]
    }
   ],
   "source": [
    "chunk_len = 200\n",
    "# tried 100,250,300 and 500\n",
    "\n",
    "def random_chunk():\n",
    "    start_index = random.randint(0, file_len - chunk_len)\n",
    "    end_index = start_index + chunk_len + 1\n",
    "    return file[start_index:end_index]\n",
    "\n",
    "print(random_chunk())"
   ]
  },
  {
   "cell_type": "markdown",
   "metadata": {},
   "source": [
    "# Model"
   ]
  },
  {
   "cell_type": "code",
   "execution_count": 23,
   "metadata": {},
   "outputs": [],
   "source": [
    "import torch\n",
    "import torch.nn as nn\n",
    "from torch.autograd import Variable\n",
    "\n",
    "class RNN(nn.Module):\n",
    "    def __init__(self, input_size, hidden_size, output_size, n_layers=1,dropout=0.5, bidirectional=True):\n",
    "        super(RNN, self).__init__()\n",
    "        self.input_size = input_size\n",
    "        self.hidden_size = hidden_size\n",
    "        self.output_size = output_size\n",
    "        self.n_layers = n_layers\n",
    "        dropout=dropout,# added dropout and bidirectional \n",
    "        bidirectional=bidirectional\n",
    "            \n",
    "        self.encoder = nn.Embedding(input_size, hidden_size)\n",
    "        self.gru = nn.GRU(hidden_size, hidden_size, n_layers)\n",
    "        self.decoder = nn.Linear(hidden_size, output_size)\n",
    "    \n",
    "    def forward(self, input, hidden):\n",
    "        input = self.encoder(input.view(1, -1))\n",
    "        output, hidden = self.gru(input.view(1, 1, -1), hidden)\n",
    "        output = self.decoder(output.view(1, -1))\n",
    "        return output, hidden\n",
    "\n",
    "    def init_hidden(self):\n",
    "        return Variable(torch.zeros(self.n_layers, 1, self.hidden_size))"
   ]
  },
  {
   "cell_type": "markdown",
   "metadata": {},
   "source": [
    "# Inputs and Targets"
   ]
  },
  {
   "cell_type": "code",
   "execution_count": 24,
   "metadata": {},
   "outputs": [
    {
     "name": "stdout",
     "output_type": "stream",
     "text": [
      "tensor([54, 24, 25, 17, 18, 10])\n"
     ]
    }
   ],
   "source": [
    "# Turn string into list of longs\n",
    "def char_tensor(string):\n",
    "    tensor = torch.zeros(len(string)).long()\n",
    "    for c in range(len(string)):\n",
    "        tensor[c] = all_characters.index(string[c])\n",
    "    return Variable(tensor)\n",
    "\n",
    "print(char_tensor('Sophia'))"
   ]
  },
  {
   "cell_type": "code",
   "execution_count": 25,
   "metadata": {},
   "outputs": [],
   "source": [
    "def random_training_set():    \n",
    "    chunk = random_chunk()\n",
    "    inp = char_tensor(chunk[:-1]) #use from 1st to 2nd last letter in chunk as input\n",
    "    target = char_tensor(chunk[1:])# use 2nd to last letter in chunk as label\n",
    "    return inp, target"
   ]
  },
  {
   "cell_type": "markdown",
   "metadata": {},
   "source": [
    "# Evaluating"
   ]
  },
  {
   "cell_type": "code",
   "execution_count": 26,
   "metadata": {},
   "outputs": [],
   "source": [
    "def evaluate(prime_str='A', predict_len=100, temperature=0.8):\n",
    "    hidden = decoder.init_hidden()\n",
    "    prime_input = char_tensor(prime_str)\n",
    "    predicted = prime_str\n",
    "\n",
    "    # Use priming string to \"build up\" hidden state\n",
    "    for p in range(len(prime_str) - 1):\n",
    "        _, hidden = decoder(prime_input[p], hidden)\n",
    "    inp = prime_input[-1]\n",
    "    \n",
    "    for p in range(predict_len):\n",
    "        output, hidden = decoder(inp, hidden)\n",
    "        \n",
    "        # Sample from the network as a multinomial distribution\n",
    "        output_dist = output.data.view(-1).div(temperature).exp()# I don't understand this part, what is 'temperature' for?\n",
    "        top_i = torch.multinomial(output_dist, 1)[0]\n",
    "        \n",
    "        # Add predicted character to string and use as next input\n",
    "        predicted_char = all_characters[top_i]\n",
    "        predicted += predicted_char\n",
    "        inp = char_tensor(predicted_char)\n",
    "\n",
    "    return predicted"
   ]
  },
  {
   "cell_type": "markdown",
   "metadata": {},
   "source": [
    "# Training"
   ]
  },
  {
   "cell_type": "code",
   "execution_count": 27,
   "metadata": {},
   "outputs": [],
   "source": [
    "import time, math\n",
    "\n",
    "def time_since(since):\n",
    "    s = time.time() - since\n",
    "    m = math.floor(s / 60)\n",
    "    s -= m * 60\n",
    "    return '%dm %ds' % (m, s)"
   ]
  },
  {
   "cell_type": "code",
   "execution_count": 28,
   "metadata": {},
   "outputs": [],
   "source": [
    "def train(inp, target):\n",
    "    hidden = decoder.init_hidden()\n",
    "    decoder.zero_grad()\n",
    "    loss = 0\n",
    "\n",
    "    for c in range(chunk_len):\n",
    "        output, hidden = decoder(inp[c], hidden)\n",
    "        loss += criterion(output, target[c].unsqueeze(0))\n",
    "\n",
    "    loss.backward()\n",
    "    decoder_optimizer.step()\n",
    "\n",
    "    return loss.data.item() / chunk_len"
   ]
  },
  {
   "cell_type": "code",
   "execution_count": 29,
   "metadata": {},
   "outputs": [
    {
     "name": "stdout",
     "output_type": "stream",
     "text": [
      "[4m 3s (100 2%) 2.1513]\n",
      "Whim saflithend, the at unters 'the Happy and see, a the word our lase bed therg batid ond the day see \n",
      "\n",
      "[8m 7s (200 4%) 2.0849]\n",
      "Wher thy he wich chis ppoad\n",
      "And och:\n",
      "That is woust us thus his canthe do'd ston, pray; my look come th \n",
      "\n",
      "[12m 8s (300 6%) 1.6730]\n",
      "What arge prept the roust;\n",
      "Stright, be quit it her are somad--O fall sing maded whild berantle that we \n",
      "\n",
      "[16m 10s (400 8%) 1.9251]\n",
      "Where the pently so from to that give\n",
      "Dit when place would you would be me\n",
      "could be with he mist under \n",
      "\n",
      "[20m 14s (500 10%) 1.5084]\n",
      "What it to to.\n",
      "\n",
      "CASSALIO:\n",
      "What entors, that thou presrich be hat house. Bue man:\n",
      "I thou grent,\n",
      "To do t \n",
      "\n",
      "[24m 20s (600 12%) 1.6168]\n",
      "Why chates in to then shall be could he sits frightus\n",
      "Tore too come, the warr concessell.\n",
      "\n",
      "FLUELA:\n",
      "Whe \n",
      "\n",
      "[28m 24s (700 14%) 1.7830]\n",
      "Whils with a traise sours, and pore whell may preace,\n",
      "And with see casure you lalce and the manely thy \n",
      "\n",
      "[32m 26s (800 16%) 1.7864]\n",
      "Whid the way dingly thou to that in th: we wher of my your wither, hath stall the was be that hother.\n",
      " \n",
      "\n",
      "[36m 30s (900 18%) 1.5954]\n",
      "Whirt be with one offiends.\n",
      "\n",
      "HENRY VINCIO:\n",
      "Thy a furiends; and disbands, I, uno, there,\n",
      "On have to hav \n",
      "\n",
      "[40m 31s (1000 20%) 1.4666]\n",
      "When way what conneser's like herd you beit, like all logd,\n",
      "The rust get mands, you lay, but 'Fissely  \n",
      "\n",
      "[44m 33s (1100 22%) 1.7297]\n",
      "Which I amous and reasons and, which and the was you as my astail,\n",
      "Whower, son thy heart and tell you  \n",
      "\n",
      "[48m 34s (1200 24%) 1.7565]\n",
      "When heaven indeed, they beary dease!\n",
      "\n",
      "BRUTUS:\n",
      "Fallow here done noce,\n",
      "Hast bearly thy sport bears lead \n",
      "\n",
      "[52m 34s (1300 26%) 1.7655]\n",
      "Whoth wares they have\n",
      "An you the suched and gold do while somen my goodly my lord,\n",
      "And my many or hims \n",
      "\n",
      "[56m 36s (1400 28%) 1.4132]\n",
      "Wh)est a pery my aperarace, king?\n",
      "Why, which my loves the caess,\n",
      "Before and me ceatch an ground,\n",
      "That  \n",
      "\n",
      "[60m 37s (1500 30%) 1.4309]\n",
      "Why heavens thous beyon husbad dotnes arger?\n",
      "\n",
      "NORFOLK:\n",
      "Senery our fall be you our sone,\n",
      "I'll let prite \n",
      "\n",
      "[107m 56s (1600 32%) 1.5930]\n",
      "Why, my lord, I see, thence in your miserven pers,\n",
      "That I seem bitus? in they have ground\n",
      "So good blun \n",
      "\n",
      "[112m 2s (1700 34%) 1.4588]\n",
      "Why dead.\n",
      "\n",
      "ROSALIND:\n",
      "Your had maution swead words the told to cape aso\n",
      "me too him, and wear abast thou \n",
      "\n",
      "[116m 3s (1800 36%) 1.4602]\n",
      "Why wares, whom for leg, but whot my saw horse,\n",
      "And that shall purpose of the time.\n",
      "\n",
      "Second Lord:\n",
      "They \n",
      "\n",
      "[120m 5s (1900 38%) 1.3948]\n",
      "Why, noble pluck thou brable,\n",
      "Whe needs lordshall sefore thinks spiritif?\n",
      "\n",
      "Clook, and proud many no be \n",
      "\n",
      "[124m 7s (2000 40%) 1.6130]\n",
      "Whiless, and so my lord;\n",
      "And twere who not a good, bring withal hould in strumber my hand: I was\n",
      "Give  \n",
      "\n",
      "[128m 9s (2100 42%) 1.5366]\n",
      "Wherefore he against great me whose this beldice.\n",
      "\n",
      "TRANIO:\n",
      "Yourselves, shorts have sore veen take\n",
      "Is c \n",
      "\n",
      "[132m 15s (2200 44%) 1.1944]\n",
      "Why, when house have most not got yet.\n",
      "\n",
      "TILMON:\n",
      "Ay, no bost every is day countly? which we peace.\n",
      "\n",
      "MAR \n",
      "\n",
      "[136m 19s (2300 46%) 1.3578]\n",
      "Why, sing, and lay this brave\n",
      "the like aw his jealty,\n",
      "Even lie below. Thy should I the fair But wellow \n",
      "\n",
      "[140m 23s (2400 48%) 1.5066]\n",
      "Why should all here in here ever you\n",
      "do sit should?\n",
      "\n",
      "Second Outlan: the seemsand.\n",
      "\n",
      "MALVOLIO:\n",
      "A a seize \n",
      "\n",
      "[144m 26s (2500 50%) 1.1932]\n",
      "While hand to them beath rement\n",
      "When my in the plucked it here in the piclius o'erped\n",
      "In here the habt \n",
      "\n",
      "[148m 30s (2600 52%) 0.9951]\n",
      "What with my gold, I so I was kind\n",
      "Reming my bloody. Thy has\n",
      "preect one into countleman:\n",
      "Like heavens  \n",
      "\n",
      "[152m 34s (2700 54%) 1.3099]\n",
      "Which say'd mine at Tates: I seat ans.\n",
      "\n",
      "PISTOL:\n",
      "Brother to the fair, I sake so, have and say the parto \n",
      "\n",
      "[156m 38s (2800 56%) 1.2730]\n",
      "Why, in my horrous,--\n",
      "\n",
      "TIMON:\n",
      "\n",
      "HORLANUS:\n",
      "We cure, that give his sems:\n",
      "And, who thind them was him\n",
      "Took \n",
      "\n",
      "[160m 55s (2900 57%) 1.1792]\n",
      "What.\n",
      "\n",
      "Stee so so. Say desome thy bellows to see at treath: unfited to the this trust be\n",
      "That speak it \n",
      "\n",
      "[165m 9s (3000 60%) 1.5782]\n",
      "Why, somethilous of it in shall\n",
      "And dutle: met it me I so earriagn;\n",
      "And I go the well my what, for thy \n",
      "\n",
      "[169m 24s (3100 62%) 0.8215]\n",
      "Wherefore yeet shall,\n",
      "Which yet let like thing would needs with from the heavens, and lies\n",
      "It be ob su \n",
      "\n",
      "[173m 33s (3200 64%) 1.4133]\n",
      "What with the here?\n",
      "Did to you order, and one his fair her did course:\n",
      "By heaving his call'd,\n",
      "So sons, \n",
      "\n",
      "[177m 40s (3300 66%) 0.8711]\n",
      "Which I Cait,\n",
      "Your 'good noble but it speak it of no shall nobles.\n",
      "\n",
      "KING PHILIP:\n",
      "And hath she than I h \n",
      "\n",
      "[181m 47s (3400 68%) 1.5938]\n",
      "Wher's every language;\n",
      "Who man what greast anothers a little able.\n",
      "\n",
      "EMILIA:\n",
      "A may with our seeming as  \n",
      "\n",
      "[185m 54s (3500 70%) 1.1152]\n",
      "Which speed with the givest,\n",
      "mours and a such a faring and pren-swords, and face in though and the bus \n",
      "\n",
      "[190m 3s (3600 72%) 1.5825]\n",
      "What beacher\n",
      "The fair on enemy house.\n",
      "\n",
      "TROILUS:\n",
      "Then woundly dram of my lord;\n",
      "Of when I mogeting cotma \n",
      "\n",
      "[194m 11s (3700 74%) 1.5559]\n",
      "What you may, thoughts yet comonder\n",
      "Lose and concances in a must be more\n",
      "Than more then blood his stra \n",
      "\n",
      "[198m 20s (3800 76%) 1.1212]\n",
      "Wher, that you have\n",
      "Inglame to a broved this bed?\n",
      "\n",
      "DUKE OF YORK:\n",
      "I'll pressent me thing of thee.\n",
      "\n",
      "CLAU \n",
      "\n",
      "[202m 27s (3900 78%) 1.3117]\n",
      "Why have arm?'\n",
      "\n",
      "Messone.\n",
      "\n",
      "AINEL:\n",
      "\n",
      "PATRANIO:\n",
      "Say then the saids tell you husbands,\n",
      "There with out more  \n",
      "\n",
      "[206m 34s (4000 80%) 1.2376]\n",
      "What faster's love seen\n",
      "Fire and since and against that fast\n",
      "thou shall are more that grazage against\n",
      " \n",
      "\n",
      "[210m 41s (4100 82%) 1.0667]\n",
      "While?\n",
      "\n",
      "SORCALE:\n",
      "No.\n",
      "\n",
      "FALSTAFF:\n",
      "He which nows of wanton, you are would\n",
      "Hothings from the sweet, arms t \n",
      "\n",
      "[214m 48s (4200 84%) 1.3303]\n",
      "Whall come thus julickly at the tell me.\n",
      "Your fargue to the Volscian blad you must does day death\n",
      "all  \n",
      "\n",
      "[218m 56s (4300 86%) 1.2394]\n",
      "Where by the heavens and true.\n",
      "\n",
      "SALSANIO:\n",
      "What master? Chook at hath deshinour,\n",
      "Tis me this sat to tha \n",
      "\n",
      "[223m 3s (4400 88%) 1.5642]\n",
      "Whee dayl on rue, and know,\n",
      "To stone in this brawter. But, Bedwick brawe thee kingdom\n",
      "Thew not blid di \n",
      "\n",
      "[227m 11s (4500 90%) 1.3538]\n",
      "What shall state my trumpet for will enemy world.\n",
      "\n",
      "KENT:\n",
      "I thy rother will heed, sight.\n",
      "\n",
      "DEThe dorn wi \n",
      "\n",
      "[231m 18s (4600 92%) 1.1125]\n",
      "Whold, I am a confess you,\n",
      "Would should to the him.\n",
      "\n",
      "BERTRAM:\n",
      "As I would seetrs, that, this is stiff?  \n",
      "\n",
      "[235m 25s (4700 94%) 1.1639]\n",
      "What is deads, the soul, with they should I love\n",
      "If you have a mother cut take me stranged of love gol \n",
      "\n",
      "[239m 33s (4800 96%) 1.1559]\n",
      "What is gone, thouse, but a shower\n",
      "And in he should passions see should go view to make theein man and \n",
      "\n",
      "[243m 37s (4900 98%) 1.2499]\n",
      "What Say so and her do villaw\n",
      "That I her did death mind of me was enough.\n",
      "\n",
      "DESCAIUS LAURICE:\n",
      "Good, if  \n",
      "\n",
      "[247m 44s (5000 100%) 1.2450]\n",
      "What be gentleman:\n",
      "Hence with fortune so rewills, I was eat a link, who's fortune\n",
      "In a vooisterch as t \n",
      "\n"
     ]
    }
   ],
   "source": [
    "n_epochs = 5000 #tried 2000,5000\n",
    "print_every = 100\n",
    "plot_every = 10\n",
    "hidden_size = 1000 #tried 100,500,1000\n",
    "n_layers = 1\n",
    "lr = 0.001 #tried 0.005,0.001,0.0005\n",
    "\n",
    "decoder = RNN(n_characters, hidden_size, n_characters, n_layers)\n",
    "decoder_optimizer = torch.optim.Adam(decoder.parameters(), lr=lr)\n",
    "criterion = nn.CrossEntropyLoss()\n",
    "\n",
    "start = time.time()\n",
    "all_losses = []\n",
    "loss_avg = 0\n",
    "\n",
    "for epoch in range(1, n_epochs + 1):\n",
    "    loss = train(*random_training_set())       \n",
    "    loss_avg += loss\n",
    "\n",
    "    if epoch % print_every == 0:\n",
    "        print('[%s (%d %d%%) %.4f]' % (time_since(start), epoch, epoch / n_epochs * 100, loss))\n",
    "        print(evaluate('Wh', 100), '\\n')\n",
    "\n",
    "    if epoch % plot_every == 0:\n",
    "        all_losses.append(loss_avg / plot_every)\n",
    "        loss_avg = 0"
   ]
  },
  {
   "cell_type": "markdown",
   "metadata": {},
   "source": [
    "# Plotting the Training Losses¶"
   ]
  },
  {
   "cell_type": "code",
   "execution_count": 30,
   "metadata": {},
   "outputs": [
    {
     "data": {
      "text/plain": [
       "[<matplotlib.lines.Line2D at 0x23b0fd5e670>]"
      ]
     },
     "execution_count": 30,
     "metadata": {},
     "output_type": "execute_result"
    },
    {
     "data": {
      "image/png": "[encoded data removed]",
      "text/plain": [
       "<Figure size 432x288 with 1 Axes>"
      ]
     },
     "metadata": {
      "needs_background": "light"
     },
     "output_type": "display_data"
    }
   ],
   "source": [
    "#plot the loss\n",
    "import matplotlib.pyplot as plt\n",
    "import matplotlib.ticker as ticker\n",
    "%matplotlib inline\n",
    "\n",
    "plt.figure()\n",
    "plt.plot(all_losses)"
   ]
  },
  {
   "cell_type": "code",
   "execution_count": 31,
   "metadata": {},
   "outputs": [
    {
     "name": "stdout",
     "output_type": "stream",
     "text": [
      "This great Shallow, it goodly pity too Part\n",
      "Hot hers to some that devilt be twent for the wall;\n",
      "And fore bear the world back lady, that,\n",
      "Or master while till fair, ence that go\n",
      "so eyes to furselland what this soldierts of varle,\n",
      "To run a dortune of mis\n"
     ]
    }
   ],
   "source": [
    "print(evaluate('Th', 250, temperature=0.8))"
   ]
  },
  {
   "cell_type": "code",
   "execution_count": 33,
   "metadata": {},
   "outputs": [
    {
     "name": "stdout",
     "output_type": "stream",
     "text": [
      "Think is my man with me not without his dish,\n",
      "To make the first to dinner to the sight which me was to lift with the earth,\n",
      "While do not so much my would be seem the fields to each bear to the sleeping of the saying of the sleep your lover\n",
      "As like a wa\n"
     ]
    }
   ],
   "source": [
    "print(evaluate('Th', 250, temperature=0.2))"
   ]
  },
  {
   "cell_type": "code",
   "execution_count": 34,
   "metadata": {},
   "outputs": [
    {
     "name": "stdout",
     "output_type": "stream",
     "text": [
      "Thyou lomay ishs; heast, which to love a luard\n",
      "for expose I servanniBan? hoLsand I must Sunkoly\n",
      "A thy hea EtoU:\n",
      "Sir, Oh, a'le illSumed which knister's a?\n",
      "NATO:,\n",
      "Witse Samived I'll tell-bdamen, dow from dair:\n",
      "A smy dip: Master not, and suppliny woman\n",
      "Sh\n"
     ]
    }
   ],
   "source": [
    "print(evaluate('Th', 250, temperature=1.4))"
   ]
  },
  {
   "cell_type": "code",
   "execution_count": null,
   "metadata": {},
   "outputs": [],
   "source": []
  }
 ],
 "metadata": {
  "kernelspec": {
   "display_name": "Python 3",
   "language": "python",
   "name": "python3"
  },
  "language_info": {
   "codemirror_mode": {
    "name": "ipython",
    "version": 3
   },
   "file_extension": ".py",
   "mimetype": "text/x-python",
   "name": "python",
   "nbconvert_exporter": "python",
   "pygments_lexer": "ipython3",
   "version": "3.8.3"
  }
 },
 "nbformat": 4,
 "nbformat_minor": 4
}
